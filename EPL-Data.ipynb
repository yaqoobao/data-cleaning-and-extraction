{
 "cells": [
  {
   "cell_type": "markdown",
   "metadata": {
    "heading_collapsed": true
   },
   "source": [
    "# GOAL"
   ]
  },
  {
   "cell_type": "markdown",
   "metadata": {
    "hidden": true
   },
   "source": [
    "This code is used to pull EPL data from fbref sources to clean and store them in a very user friendly way for subsequent analysis. Currently data is stored in googlesheet but this can also be applied to load SQL Tables. "
   ]
  },
  {
   "cell_type": "code",
   "execution_count": null,
   "metadata": {
    "ExecuteTime": {
     "end_time": "2020-08-22T07:25:08.266809Z",
     "start_time": "2020-08-22T07:25:08.262969Z"
    },
    "hidden": true
   },
   "outputs": [],
   "source": [
    "import pandas as pd\n",
    "import numpy as np\n",
    "import matplotlib.pyplot as plt\n",
    "import seaborn as sns\n",
    "sns.set()"
   ]
  },
  {
   "cell_type": "markdown",
   "metadata": {
    "heading_collapsed": true
   },
   "source": [
    "# LINK  TO DIFFERENT EPL SEASONS (SOURCE: FBREF)"
   ]
  },
  {
   "cell_type": "code",
   "execution_count": null,
   "metadata": {
    "ExecuteTime": {
     "end_time": "2020-08-22T07:25:08.475662Z",
     "start_time": "2020-08-22T07:25:08.469239Z"
    },
    "hidden": true
   },
   "outputs": [],
   "source": [
    "Twenty = 'https://fbref.com/en/comps/9/schedule/Premier-League-Scores-and-Fixtures'\n",
    "Nineteen = 'https://fbref.com/en/comps/9/1889/schedule/2018-2019-Premier-League-Scores-and-Fixtures'\n",
    "Eighteen = 'https://fbref.com/en/comps/9/1631/schedule/2017-2018-Premier-League-Scores-and-Fixtures'\n",
    "Seventeen = 'https://fbref.com/en/comps/9/1526/schedule/2016-2017-Premier-League-Scores-and-Fixtures'\n",
    "Sixteen = 'https://fbref.com/en/comps/9/1467/schedule/2015-2016-Premier-League-Scores-and-Fixtures'\n",
    "Fifteen = 'https://fbref.com/en/comps/9/733/schedule/2014-2015-Premier-League-Scores-and-Fixtures'\n",
    "Fourteen ='https://fbref.com/en/comps/9/669/schedule/2013-2014-Premier-League-Scores-and-Fixtures'\n",
    "Thirteen = 'https://fbref.com/en/comps/9/602/schedule/2012-2013-Premier-League-Scores-and-Fixtures'\n",
    "Twelve = 'https://fbref.com/en/comps/9/534/schedule/2011-2012-Premier-League-Scores-and-Fixtures'\n",
    "Eleven = 'https://fbref.com/en/comps/9/467/schedule/2010-2011-Premier-League-Scores-and-Fixtures'\n",
    "Ten = 'https://fbref.com/en/comps/9/400/schedule/2009-2010-Premier-League-Scores-and-Fixtures'\n",
    "Nine = 'https://fbref.com/en/comps/9/338/schedule/2008-2009-Premier-League-Scores-and-Fixtures'\n",
    "Eight= 'https://fbref.com/en/comps/9/282/schedule/2007-2008-Premier-League-Scores-and-Fixtures'\n",
    "Seven= 'https://fbref.com/en/comps/9/229/schedule/2006-2007-Premiership-Scores-and-Fixtures'\n",
    "Six = 'https://fbref.com/en/comps/9/183/schedule/2005-2006-Premiership-Scores-and-Fixtures'\n",
    "Five = 'https://fbref.com/en/comps/9/146/schedule/2004-2005-Premiership-Scores-and-Fixtures'\n",
    "Four = 'https://fbref.com/en/comps/9/112/schedule/2003-2004-Premiership-Scores-and-Fixtures'\n",
    "Three = 'https://fbref.com/en/comps/9/84/schedule/2002-2003-Premiership-Scores-and-Fixtures'\n",
    "Two = 'https://fbref.com/en/comps/9/63/schedule/2001-2002-Premiership-Scores-and-Fixtures'\n",
    "One = 'https://fbref.com/en/comps/9/47/schedule/2000-2001-Premiership-Scores-and-Fixtures'\n",
    "Zero= 'https://fbref.com/en/comps/9/38/schedule/1999-2000-Premiership-Scores-and-Fixtures'\n",
    "NineNine = 'https://fbref.com/en/comps/9/35/schedule/1998-1999-Premiership-Scores-and-Fixtures'\n",
    "NineEight= 'https://fbref.com/en/comps/9/33/schedule/1997-1998-Premiership-Scores-and-Fixtures'\n",
    "NineSeven = 'https://fbref.com/en/comps/9/31/schedule/1996-1997-Premiership-Scores-and-Fixtures'\n",
    "NineSix = 'https://fbref.com/en/comps/9/29/schedule/1995-1996-Premiership-Scores-and-Fixtures'\n",
    "NineFive = 'https://fbref.com/en/comps/9/28/schedule/1994-1995-Premiership-Scores-and-Fixtures'\n",
    "NineFour = 'https://fbref.com/en/comps/9/27/schedule/1993-1994-Premiership-Scores-and-Fixtures'\n",
    "NineThree = 'https://fbref.com/en/comps/9/26/schedule/1992-1993-Premiership-Scores-and-Fixtures'\n",
    "\n",
    "\n"
   ]
  },
  {
   "cell_type": "markdown",
   "metadata": {
    "heading_collapsed": true
   },
   "source": [
    "# RESTRUCTURING PREMIER LEAGUE DATA "
   ]
  },
  {
   "cell_type": "code",
   "execution_count": null,
   "metadata": {
    "ExecuteTime": {
     "end_time": "2020-08-22T07:25:08.668752Z",
     "start_time": "2020-08-22T07:25:08.657064Z"
    },
    "hidden": true
   },
   "outputs": [],
   "source": [
    "def premierleaguestats(a):\n",
    "    b = pd.DataFrame({'Home' : []})\n",
    "    for i in a:\n",
    "        EPL = pd.read_html(i)\n",
    "        EPL=EPL[0]\n",
    "        EPL=EPL[~EPL['Home'].isnull()]\n",
    "        EPL= EPL.drop(columns=['Notes', 'Match Report'])\n",
    "        EPL[['HomeGoal', 'AwayGoal']] = EPL['Score'].str.split('–',expand=True)\n",
    "        EPL['GoalDiff']=EPL['HomeGoal'].astype(int) - EPL['AwayGoal'].astype(int)\n",
    "        EPL['HomeOutcome'] = 0\n",
    "        EPL['AwayOutcome'] = 0\n",
    "        EPL['Homepts'] = 0 \n",
    "        EPL['Awaypts'] = 0 \n",
    "        EPL['HomeOutcome'] = np.where(EPL['GoalDiff']==0 ,'D', EPL['HomeOutcome'])\n",
    "        EPL['HomeOutcome'] = np.where(EPL['GoalDiff']>0 ,'W', EPL['HomeOutcome'])\n",
    "        EPL['HomeOutcome']= np.where(EPL['GoalDiff']<0 ,'L', EPL['HomeOutcome'])\n",
    "        EPL['Homepts'] = np.where(EPL['GoalDiff']==0 ,1, EPL['Homepts'])\n",
    "        EPL['Homepts'] = np.where(EPL['GoalDiff']>0 ,3, EPL['Homepts'])\n",
    "        EPL['Homepts']= np.where(EPL['GoalDiff']<0 ,0, EPL['Homepts'])\n",
    "        EPL['AwayOutcome'] = np.where(EPL['GoalDiff']==0 ,'D', EPL['AwayOutcome'])\n",
    "        EPL['AwayOutcome'] = np.where(EPL['GoalDiff']<0 ,'W', EPL['AwayOutcome'])\n",
    "        EPL['AwayOutcome']= np.where(EPL['GoalDiff']>0 ,'L', EPL['AwayOutcome'])\n",
    "        EPL['Awaypts'] = np.where(EPL['GoalDiff']==0 ,1, EPL['Awaypts'])\n",
    "        EPL['Awaypts'] = np.where(EPL['GoalDiff']>0 ,0, EPL['Awaypts'])\n",
    "        EPL['Awaypts']= np.where(EPL['GoalDiff']<0 ,3, EPL['Awaypts'])\n",
    "        EPL['Season'] = EPL['Date'].str.slice(start=0, stop=4).min() + '/' + str(int(EPL['Date'].str.slice(start=0, stop=4).min()) + 1)\n",
    "        EPL['INVERTED'] = 'FALSE'\n",
    "        EPL2= EPL\n",
    "        EPL2 = EPL2.rename(columns={'Away':'Home', 'Home':'Away', 'Awaypts':'Homepts','Homepts': 'Awaypts', 'HomeGoal':'AwayGoal',\n",
    "                                   'AwayGoal':'HomeGoal','HomeOutcome':'AwayOutcome','AwayOutcome':'HomeOutcome', 'xG':'xG.1', 'xG.1':'xG' })\n",
    "        EPL2['GoalDiff'] = EPL['GoalDiff'] *-1\n",
    "        EPL2['INVERTED'] = 'TRUE'\n",
    "        EPL = pd.concat([EPL,EPL2], sort=True)\n",
    "        b = pd.concat([b,EPL], join='outer', sort=True)\n",
    "    return b"
   ]
  },
  {
   "cell_type": "markdown",
   "metadata": {
    "heading_collapsed": true
   },
   "source": [
    "# BUILDING EPL TABLES  (1992-2020)"
   ]
  },
  {
   "cell_type": "code",
   "execution_count": null,
   "metadata": {
    "ExecuteTime": {
     "end_time": "2020-08-22T07:25:08.867111Z",
     "start_time": "2020-08-22T07:25:08.852553Z"
    },
    "hidden": true
   },
   "outputs": [],
   "source": [
    "def premierleaguetables(EPL):\n",
    "        EPL['HomeGoal']= EPL['HomeGoal'].astype(int)\n",
    "        EPL['AwayGoal']= EPL['AwayGoal'].astype(int)\n",
    "        combined_stats=EPL.groupby(['Season', 'Home']).agg({'Date':'count','Homepts':'sum', 'GoalDiff':'sum', 'xG':'sum', 'xG.1':'sum', 'HomeGoal':'sum', 'AwayGoal':'sum'}).reset_index()\n",
    "        Away = EPL[EPL['INVERTED']=='TRUE']\n",
    "        Home = EPL[EPL['INVERTED']=='FALSE']\n",
    "        Away_stats=Away.groupby(['Season', 'Home']).agg({'Date':'count','Homepts':'sum', 'GoalDiff':'sum', 'xG':'sum', 'xG.1':'sum', 'HomeGoal':'sum', 'AwayGoal':'sum'}).reset_index()\n",
    "        Home_stats = Home.groupby(['Season', 'Home']).agg({'Date':'count','Homepts':'sum', 'GoalDiff':'sum', 'xG':'sum', 'xG.1':'sum', 'HomeGoal':'sum', 'AwayGoal':'sum'}).reset_index()\n",
    "        combined_stats = combined_stats.rename(columns={'Home':'Club', 'Date':'Matches_Played', 'Homepts':'Pts',  'HomeGoal':'GF', 'AwayGoal':'GA'})\n",
    "        Away_stats = Away_stats.rename(columns={'Home':'Club', 'Date':'Matches_Played(Away)', 'Homepts':'Away Pts','GoalDiff':'GoalDiff (Away)', 'xG': 'xG (Away)', 'xG.1':'xG.1 (Away)','HomeGoal':'GF (Away)', 'AwayGoal':'GA (Away)'})\n",
    "        Home_stats = Home_stats.rename(columns={'Home':'Club', 'Date':'Matches_Played(Home)', 'Homepts':'Home Pts','GoalDiff':'GoalDiff (Home)', 'xG': 'xG (Home)', 'xG.1':'xG.1 (Home)','HomeGoal':'GF (Home)', 'AwayGoal':'GA (Home)'})\n",
    "        Stats = EPL[['Season','Home','HomeOutcome']].groupby(['Season', 'Home', 'HomeOutcome']).size().unstack().reset_index()\n",
    "        AwayStats = Away[['Season','Home','HomeOutcome']].groupby(['Season', 'Home', 'HomeOutcome']).size().unstack().reset_index()\n",
    "        HomeStats = Home[['Season','Home','HomeOutcome']].groupby(['Season', 'Home', 'HomeOutcome']).size().unstack().reset_index()\n",
    "        combined_stats=combined_stats.sort_values(by=['Season', 'Pts', 'GoalDiff'], ascending= False)\n",
    "        combined_stats['Position'] = combined_stats.groupby(\"Season\")[\"Pts\"].rank(\"first\", ascending=False)\n",
    "        Stats = Stats[['Season', 'Home', 'W', 'D', 'L']]\n",
    "        AwayStats= AwayStats[['Season', 'Home', 'W', 'D', 'L']]\n",
    "        HomeStats= HomeStats[['Season', 'Home', 'W', 'D', 'L']]\n",
    "        Stats=Stats.rename(columns={'Home':'Club'})\n",
    "        HomeStats = HomeStats.rename(columns = {'Home':'Club', 'W': 'W (Home)', 'D': 'D (Home)', 'L': 'L (Home)' })\n",
    "        AwayStats = AwayStats.rename(columns = {'Home':'Club', 'W': 'W (Away)', 'D': 'D (Away)', 'L': 'L (Away)' })\n",
    "        SummaryTable =pd.merge(combined_stats,Stats, on=['Season','Club'])\n",
    "        HomeTable =pd.merge(Home_stats,HomeStats, on=['Season','Club'])\n",
    "        AwayTable =pd.merge(Away_stats,AwayStats, on=['Season','Club'])\n",
    "        SummaryTable = SummaryTable[['Position','Season', 'Club', 'Matches_Played', 'W', 'D', 'L', 'GF', 'GA', 'GoalDiff','xG', 'xG.1', 'Pts']]\n",
    "        HomeTable = HomeTable[['Season', 'Club', 'Matches_Played(Home)', 'W (Home)', 'D (Home)', 'L (Home)', 'GF (Home)', 'GA (Home)', 'GoalDiff (Home)','xG (Home)', 'xG.1 (Home)', 'Home Pts']]\n",
    "        AwayTable = AwayTable[['Season', 'Club', 'Matches_Played(Away)', 'W (Away)', 'D (Away)', 'L (Away)', 'GF (Away)', 'GA (Away)', 'GoalDiff (Away)','xG (Away)', 'xG.1 (Away)', 'Away Pts']]\n",
    "        CombinedTable =pd.merge(SummaryTable,HomeTable, on=['Season','Club'], how='left')\n",
    "        CombinedTable =pd.merge(CombinedTable,AwayTable, on=['Season','Club'], how='left')\n",
    "        CombinedTable['Position'] = CombinedTable['Position'].astype(int)\n",
    "        \n",
    "        return CombinedTable"
   ]
  },
  {
   "cell_type": "code",
   "execution_count": null,
   "metadata": {
    "ExecuteTime": {
     "end_time": "2020-08-22T07:25:15.009580Z",
     "start_time": "2020-08-22T07:25:09.293041Z"
    },
    "hidden": true
   },
   "outputs": [],
   "source": [
    "\n",
    "AllSeasons =[Twenty, Nineteen, Eighteen, Seventeen, Sixteen, Fifteen, Fourteen, Thirteen, Twelve, Eleven, Ten, Nine, Eight, Seven, Six,Five, Four, Three,Two, One, Zero, NineNine, NineEight, NineSeven, NineSix, NineFive, NineFour, NineThree]\n",
    "AllGamesStats= premierleague(AllSeasons)\n"
   ]
  },
  {
   "cell_type": "code",
   "execution_count": null,
   "metadata": {
    "ExecuteTime": {
     "end_time": "2020-08-22T07:25:15.147516Z",
     "start_time": "2020-08-22T07:25:15.015223Z"
    },
    "hidden": true
   },
   "outputs": [],
   "source": [
    "AllEPLTables = premierleaguetables(AllGamesStats)"
   ]
  },
  {
   "cell_type": "code",
   "execution_count": null,
   "metadata": {
    "ExecuteTime": {
     "end_time": "2020-08-22T07:32:43.455598Z",
     "start_time": "2020-08-22T07:32:43.425168Z"
    },
    "hidden": true
   },
   "outputs": [],
   "source": [
    "auth.authenticate_user()\n",
    "import pygsheets\n",
    "credentials, _ = google.auth.default()\n",
    "gc = pygsheets.client.Client(credentials)\n",
    "\n",
    "wsheet = gc.open_by_url('Insert google sheet link here')\n",
    "wsheet"
   ]
  },
  {
   "cell_type": "code",
   "execution_count": null,
   "metadata": {
    "ExecuteTime": {
     "end_time": "2020-08-22T07:25:15.179336Z",
     "start_time": "2020-08-22T07:25:15.149887Z"
    },
    "hidden": true
   },
   "outputs": [],
   "source": [
    "MaxHomePoints=AllEPLTables.iloc[AllEPLTables.groupby('Season')['Home Pts'].idxmax()][['Season','Club','Home Pts', 'Pts']].rename(columns={'Club':'MostHomePoints', 'Home Pts':'Max Home Points', 'Pts': 'Total Pts'}) #the max points per season\n",
    "WinnerHomePoints = AllEPLTables.iloc[AllEPLTables.groupby('Season')['Position'].idxmin()][['Season','Club','Home Pts', 'Pts']].rename(columns={'Club':'WinnerHomePoints', 'Home Pts':'Winner Home Points', 'Pts':'Winner Total Pts'}) \n",
    "ComparisonHomePoints = pd.merge(MaxHomePoints,WinnerHomePoints, on= ['Season'])"
   ]
  },
  {
   "cell_type": "code",
   "execution_count": null,
   "metadata": {
    "ExecuteTime": {
     "end_time": "2020-08-22T07:25:15.217502Z",
     "start_time": "2020-08-22T07:25:15.182913Z"
    },
    "hidden": true
   },
   "outputs": [],
   "source": [
    "ComparisonHomePoints"
   ]
  },
  {
   "cell_type": "code",
   "execution_count": null,
   "metadata": {
    "ExecuteTime": {
     "end_time": "2020-08-22T07:28:16.405398Z",
     "start_time": "2020-08-22T07:28:16.006875Z"
    },
    "hidden": true
   },
   "outputs": [],
   "source": [
    "plt.figure(dpi=600)\n",
    "fig, ax = plt.subplots()  # Create a figure and an axes.\n",
    "plt.figure(figsize=(6000,1200))\n",
    "ax.plot(ComparisonHomePoints['Season'],ComparisonHomePoints['Max Home Points'], label='Most Points Gathered by a Club in the season')  # Plot some data on the axes.\n",
    "ax.plot(ComparisonHomePoints['Season'],ComparisonHomePoints['Winner Home Points'], label='Winner Home Point')  # Plot more data on the axes...\n",
    "."
   ]
  },
  {
   "cell_type": "code",
   "execution_count": null,
   "metadata": {
    "ExecuteTime": {
     "end_time": "2020-08-22T06:31:10.496404Z",
     "start_time": "2020-08-22T06:31:10.488356Z"
    },
    "hidden": true
   },
   "outputs": [],
   "source": []
  },
  {
   "cell_type": "code",
   "execution_count": null,
   "metadata": {
    "ExecuteTime": {
     "end_time": "2020-08-22T06:31:10.527700Z",
     "start_time": "2020-08-22T06:31:10.498003Z"
    },
    "hidden": true
   },
   "outputs": [],
   "source": []
  },
  {
   "cell_type": "code",
   "execution_count": null,
   "metadata": {
    "ExecuteTime": {
     "end_time": "2020-08-22T06:31:10.537985Z",
     "start_time": "2020-08-22T06:31:10.529467Z"
    },
    "hidden": true
   },
   "outputs": [],
   "source": []
  },
  {
   "cell_type": "code",
   "execution_count": null,
   "metadata": {
    "ExecuteTime": {
     "end_time": "2020-08-22T06:31:10.559633Z",
     "start_time": "2020-08-22T06:31:10.539717Z"
    },
    "hidden": true
   },
   "outputs": [],
   "source": []
  },
  {
   "cell_type": "code",
   "execution_count": null,
   "metadata": {
    "ExecuteTime": {
     "end_time": "2020-08-22T06:31:10.569687Z",
     "start_time": "2020-08-22T06:31:10.562492Z"
    },
    "hidden": true
   },
   "outputs": [],
   "source": []
  },
  {
   "cell_type": "code",
   "execution_count": null,
   "metadata": {
    "ExecuteTime": {
     "end_time": "2020-08-22T06:31:10.577038Z",
     "start_time": "2020-08-22T06:31:10.571568Z"
    },
    "hidden": true
   },
   "outputs": [],
   "source": []
  },
  {
   "cell_type": "code",
   "execution_count": null,
   "metadata": {
    "ExecuteTime": {
     "end_time": "2020-08-22T06:31:10.594630Z",
     "start_time": "2020-08-22T06:31:10.578696Z"
    },
    "hidden": true
   },
   "outputs": [],
   "source": []
  },
  {
   "cell_type": "code",
   "execution_count": null,
   "metadata": {
    "ExecuteTime": {
     "end_time": "2020-08-22T06:31:10.616146Z",
     "start_time": "2020-08-22T06:31:10.596770Z"
    },
    "hidden": true
   },
   "outputs": [],
   "source": []
  },
  {
   "cell_type": "code",
   "execution_count": null,
   "metadata": {
    "ExecuteTime": {
     "end_time": "2020-08-22T06:31:10.626106Z",
     "start_time": "2020-08-22T06:31:10.617823Z"
    },
    "hidden": true
   },
   "outputs": [],
   "source": []
  },
  {
   "cell_type": "code",
   "execution_count": null,
   "metadata": {
    "ExecuteTime": {
     "end_time": "2020-08-22T06:31:10.642274Z",
     "start_time": "2020-08-22T06:31:10.627727Z"
    },
    "hidden": true
   },
   "outputs": [],
   "source": []
  },
  {
   "cell_type": "code",
   "execution_count": null,
   "metadata": {
    "ExecuteTime": {
     "end_time": "2020-08-22T06:31:10.645968Z",
     "start_time": "2020-08-22T06:31:10.643981Z"
    },
    "hidden": true
   },
   "outputs": [],
   "source": []
  },
  {
   "cell_type": "code",
   "execution_count": null,
   "metadata": {
    "ExecuteTime": {
     "end_time": "2020-08-22T06:31:10.650567Z",
     "start_time": "2020-08-22T06:31:10.647590Z"
    },
    "hidden": true
   },
   "outputs": [],
   "source": []
  },
  {
   "cell_type": "code",
   "execution_count": null,
   "metadata": {
    "ExecuteTime": {
     "end_time": "2020-08-22T06:31:10.664888Z",
     "start_time": "2020-08-22T06:31:10.652302Z"
    },
    "hidden": true
   },
   "outputs": [],
   "source": []
  },
  {
   "cell_type": "code",
   "execution_count": null,
   "metadata": {
    "ExecuteTime": {
     "end_time": "2020-08-22T06:31:10.668426Z",
     "start_time": "2020-08-22T06:31:10.666418Z"
    },
    "hidden": true
   },
   "outputs": [],
   "source": []
  },
  {
   "cell_type": "code",
   "execution_count": null,
   "metadata": {
    "ExecuteTime": {
     "end_time": "2020-08-22T06:31:10.864758Z",
     "start_time": "2020-08-22T06:31:10.670042Z"
    },
    "hidden": true
   },
   "outputs": [],
   "source": []
  },
  {
   "cell_type": "code",
   "execution_count": null,
   "metadata": {
    "ExecuteTime": {
     "end_time": "2020-08-22T06:31:11.040395Z",
     "start_time": "2020-08-22T06:31:10.866659Z"
    },
    "hidden": true
   },
   "outputs": [],
   "source": []
  },
  {
   "cell_type": "code",
   "execution_count": null,
   "metadata": {
    "hidden": true
   },
   "outputs": [],
   "source": []
  }
 ],
 "metadata": {
  "hide_input": false,
  "kernelspec": {
   "display_name": "Python 3",
   "language": "python",
   "name": "python3"
  },
  "language_info": {
   "codemirror_mode": {
    "name": "ipython",
    "version": 3
   },
   "file_extension": ".py",
   "mimetype": "text/x-python",
   "name": "python",
   "nbconvert_exporter": "python",
   "pygments_lexer": "ipython3",
   "version": "3.7.8"
  }
 },
 "nbformat": 4,
 "nbformat_minor": 4
}
